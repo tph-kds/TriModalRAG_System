{
 "cells": [
  {
   "cell_type": "code",
   "execution_count": 25,
   "metadata": {},
   "outputs": [],
   "source": [
    "import numpy\n",
    "\n"
   ]
  },
  {
   "cell_type": "code",
   "execution_count": 26,
   "metadata": {},
   "outputs": [
    {
     "name": "stdout",
     "output_type": "stream",
     "text": [
      "He added that the scheme aims to attract regional and Malaysian families to manage their family wealth from Malaysia. Supported by good infrastructure, a competitive talent pool, robust common law practices and effective governance, opportunities abound for family offices,” said Mr Amir Hamzah. This scheme is aimed at being operational by the first quarter of 2025, he added. During a press conference after his speech, Mr Amir Hamzah explained that these companies will be subject to zero per cent tax when they file revenue of their transactions for 10 years.He added that the incentives can then be extended if the family offices scale up investments and assets of their operations in Malaysia. Mr Amir Hamzah added that a key criteria is that these family offices must have minimum assets of RM70 million (US$16.73 million), and a portion of these must be invested in Malaysia’s economy. \n"
     ]
    }
   ],
   "source": [
    "# create a text with 1024 characters\n",
    "\n",
    "text= [\"He added that the scheme aims to attract regional and Malaysian families to manage their family wealth from Malaysia. Supported by good infrastructure, a competitive talent pool, robust common law practices and effective governance, opportunities abound for family offices,” said Mr Amir Hamzah. This scheme is aimed at being operational by the first quarter of 2025, he added. During a press conference after his speech, Mr Amir Hamzah explained that these companies will be subject to zero per cent tax when they file revenue of their transactions for 10 years.He added that the incentives can then be extended if the family offices scale up investments and assets of their operations in Malaysia. Mr Amir Hamzah added that a key criteria is that these family offices must have minimum assets of RM70 million (US$16.73 million), and a portion of these must be invested in Malaysia’s economy. \"]\n",
    "for i in text:\n",
    "    print(i)\n",
    "    break\n"
   ]
  },
  {
   "cell_type": "code",
   "execution_count": 15,
   "metadata": {},
   "outputs": [
    {
     "name": "stdout",
     "output_type": "stream",
     "text": [
      "Collecting langchain\n",
      "  Downloading langchain-0.3.0-py3-none-any.whl.metadata (7.1 kB)\n",
      "Requirement already satisfied: PyYAML>=5.3 in d:\\downloads\\program files\\anaconda\\lib\\site-packages (from langchain) (6.0.1)\n",
      "Requirement already satisfied: SQLAlchemy<3,>=1.4 in d:\\downloads\\program files\\anaconda\\lib\\site-packages (from langchain) (2.0.25)\n",
      "Requirement already satisfied: aiohttp<4.0.0,>=3.8.3 in d:\\downloads\\program files\\anaconda\\lib\\site-packages (from langchain) (3.9.3)\n",
      "Collecting langchain-core<0.4.0,>=0.3.0 (from langchain)\n",
      "  Downloading langchain_core-0.3.2-py3-none-any.whl.metadata (6.3 kB)\n",
      "Collecting langchain-text-splitters<0.4.0,>=0.3.0 (from langchain)\n",
      "  Downloading langchain_text_splitters-0.3.0-py3-none-any.whl.metadata (2.3 kB)\n",
      "Collecting langsmith<0.2.0,>=0.1.17 (from langchain)\n",
      "  Downloading langsmith-0.1.125-py3-none-any.whl.metadata (13 kB)\n",
      "Requirement already satisfied: numpy<2,>=1 in d:\\downloads\\program files\\anaconda\\lib\\site-packages (from langchain) (1.26.4)\n",
      "Collecting pydantic<3.0.0,>=2.7.4 (from langchain)\n",
      "  Downloading pydantic-2.9.2-py3-none-any.whl.metadata (149 kB)\n",
      "     ---------------------------------------- 0.0/149.4 kB ? eta -:--:--\n",
      "     -------- ------------------------------ 30.7/149.4 kB 1.3 MB/s eta 0:00:01\n",
      "     ---------------------------- --------- 112.6/149.4 kB 1.3 MB/s eta 0:00:01\n",
      "     -------------------------------------- 149.4/149.4 kB 1.5 MB/s eta 0:00:00\n",
      "Requirement already satisfied: requests<3,>=2 in d:\\downloads\\program files\\anaconda\\lib\\site-packages (from langchain) (2.31.0)\n",
      "Requirement already satisfied: tenacity!=8.4.0,<9.0.0,>=8.1.0 in d:\\downloads\\program files\\anaconda\\lib\\site-packages (from langchain) (8.2.2)\n",
      "Requirement already satisfied: aiosignal>=1.1.2 in d:\\downloads\\program files\\anaconda\\lib\\site-packages (from aiohttp<4.0.0,>=3.8.3->langchain) (1.2.0)\n",
      "Requirement already satisfied: attrs>=17.3.0 in d:\\downloads\\program files\\anaconda\\lib\\site-packages (from aiohttp<4.0.0,>=3.8.3->langchain) (23.1.0)\n",
      "Requirement already satisfied: frozenlist>=1.1.1 in d:\\downloads\\program files\\anaconda\\lib\\site-packages (from aiohttp<4.0.0,>=3.8.3->langchain) (1.4.0)\n",
      "Requirement already satisfied: multidict<7.0,>=4.5 in d:\\downloads\\program files\\anaconda\\lib\\site-packages (from aiohttp<4.0.0,>=3.8.3->langchain) (6.0.4)\n",
      "Requirement already satisfied: yarl<2.0,>=1.0 in d:\\downloads\\program files\\anaconda\\lib\\site-packages (from aiohttp<4.0.0,>=3.8.3->langchain) (1.9.3)\n",
      "Collecting jsonpatch<2.0,>=1.33 (from langchain-core<0.4.0,>=0.3.0->langchain)\n",
      "  Using cached jsonpatch-1.33-py2.py3-none-any.whl.metadata (3.0 kB)\n",
      "Collecting packaging<25,>=23.2 (from langchain-core<0.4.0,>=0.3.0->langchain)\n",
      "  Using cached packaging-24.1-py3-none-any.whl.metadata (3.2 kB)\n",
      "Requirement already satisfied: typing-extensions>=4.7 in d:\\downloads\\program files\\anaconda\\lib\\site-packages (from langchain-core<0.4.0,>=0.3.0->langchain) (4.9.0)\n",
      "Collecting httpx<1,>=0.23.0 (from langsmith<0.2.0,>=0.1.17->langchain)\n",
      "  Using cached httpx-0.27.2-py3-none-any.whl.metadata (7.1 kB)\n",
      "Collecting orjson<4.0.0,>=3.9.14 (from langsmith<0.2.0,>=0.1.17->langchain)\n",
      "  Downloading orjson-3.10.7-cp311-none-win_amd64.whl.metadata (51 kB)\n",
      "     ---------------------------------------- 0.0/51.7 kB ? eta -:--:--\n",
      "     ---------------------------------------- 51.7/51.7 kB ? eta 0:00:00\n",
      "Collecting annotated-types>=0.6.0 (from pydantic<3.0.0,>=2.7.4->langchain)\n",
      "  Using cached annotated_types-0.7.0-py3-none-any.whl.metadata (15 kB)\n",
      "Collecting pydantic-core==2.23.4 (from pydantic<3.0.0,>=2.7.4->langchain)\n",
      "  Downloading pydantic_core-2.23.4-cp311-none-win_amd64.whl.metadata (6.7 kB)\n",
      "Requirement already satisfied: charset-normalizer<4,>=2 in d:\\downloads\\program files\\anaconda\\lib\\site-packages (from requests<3,>=2->langchain) (2.0.4)\n",
      "Requirement already satisfied: idna<4,>=2.5 in d:\\downloads\\program files\\anaconda\\lib\\site-packages (from requests<3,>=2->langchain) (3.4)\n",
      "Requirement already satisfied: urllib3<3,>=1.21.1 in d:\\downloads\\program files\\anaconda\\lib\\site-packages (from requests<3,>=2->langchain) (2.0.7)\n",
      "Requirement already satisfied: certifi>=2017.4.17 in d:\\downloads\\program files\\anaconda\\lib\\site-packages (from requests<3,>=2->langchain) (2024.2.2)\n",
      "Requirement already satisfied: greenlet!=0.4.17 in d:\\downloads\\program files\\anaconda\\lib\\site-packages (from SQLAlchemy<3,>=1.4->langchain) (3.0.1)\n",
      "Requirement already satisfied: anyio in d:\\downloads\\program files\\anaconda\\lib\\site-packages (from httpx<1,>=0.23.0->langsmith<0.2.0,>=0.1.17->langchain) (4.2.0)\n",
      "Collecting httpcore==1.* (from httpx<1,>=0.23.0->langsmith<0.2.0,>=0.1.17->langchain)\n",
      "  Using cached httpcore-1.0.5-py3-none-any.whl.metadata (20 kB)\n",
      "Requirement already satisfied: sniffio in d:\\downloads\\program files\\anaconda\\lib\\site-packages (from httpx<1,>=0.23.0->langsmith<0.2.0,>=0.1.17->langchain) (1.3.0)\n",
      "Collecting h11<0.15,>=0.13 (from httpcore==1.*->httpx<1,>=0.23.0->langsmith<0.2.0,>=0.1.17->langchain)\n",
      "  Using cached h11-0.14.0-py3-none-any.whl.metadata (8.2 kB)\n",
      "Requirement already satisfied: jsonpointer>=1.9 in d:\\downloads\\program files\\anaconda\\lib\\site-packages (from jsonpatch<2.0,>=1.33->langchain-core<0.4.0,>=0.3.0->langchain) (2.1)\n",
      "Downloading langchain-0.3.0-py3-none-any.whl (1.0 MB)\n",
      "   ---------------------------------------- 0.0/1.0 MB ? eta -:--:--\n",
      "   ------ --------------------------------- 0.2/1.0 MB 5.0 MB/s eta 0:00:01\n",
      "   -------------- ------------------------- 0.4/1.0 MB 3.7 MB/s eta 0:00:01\n",
      "   --------------------- ------------------ 0.5/1.0 MB 4.3 MB/s eta 0:00:01\n",
      "   ---------------------------- ----------- 0.7/1.0 MB 4.0 MB/s eta 0:00:01\n",
      "   ------------------------------------ --- 0.9/1.0 MB 4.1 MB/s eta 0:00:01\n",
      "   ---------------------------------------- 1.0/1.0 MB 4.0 MB/s eta 0:00:00\n",
      "Downloading langchain_core-0.3.2-py3-none-any.whl (399 kB)\n",
      "   ---------------------------------------- 0.0/399.7 kB ? eta -:--:--\n",
      "   ---------------------- ----------------- 225.3/399.7 kB 6.9 MB/s eta 0:00:01\n",
      "   ---------------------------------------- 399.7/399.7 kB 5.0 MB/s eta 0:00:00\n",
      "Downloading langchain_text_splitters-0.3.0-py3-none-any.whl (25 kB)\n",
      "Downloading langsmith-0.1.125-py3-none-any.whl (290 kB)\n",
      "   ---------------------------------------- 0.0/290.2 kB ? eta -:--:--\n",
      "   ---------------------------- ----------- 204.8/290.2 kB 6.3 MB/s eta 0:00:01\n",
      "   ---------------------------------------- 290.2/290.2 kB 3.6 MB/s eta 0:00:00\n",
      "Downloading pydantic-2.9.2-py3-none-any.whl (434 kB)\n",
      "   ---------------------------------------- 0.0/434.9 kB ? eta -:--:--\n",
      "   ------------------------ --------------- 266.2/434.9 kB 5.4 MB/s eta 0:00:01\n",
      "   ---------------------------------------- 434.9/434.9 kB 4.5 MB/s eta 0:00:00\n",
      "Downloading pydantic_core-2.23.4-cp311-none-win_amd64.whl (1.9 MB)\n",
      "   ---------------------------------------- 0.0/1.9 MB ? eta -:--:--\n",
      "   ----- ---------------------------------- 0.3/1.9 MB 8.9 MB/s eta 0:00:01\n",
      "   ----------- ---------------------------- 0.5/1.9 MB 6.7 MB/s eta 0:00:01\n",
      "   ----------------- ---------------------- 0.8/1.9 MB 6.5 MB/s eta 0:00:01\n",
      "   ------------------ --------------------- 0.9/1.9 MB 6.3 MB/s eta 0:00:01\n",
      "   ------------------------ --------------- 1.2/1.9 MB 5.2 MB/s eta 0:00:01\n",
      "   ----------------------------- ---------- 1.4/1.9 MB 5.3 MB/s eta 0:00:01\n",
      "   ---------------------------------- ----- 1.7/1.9 MB 5.3 MB/s eta 0:00:01\n",
      "   ---------------------------------------  1.9/1.9 MB 5.5 MB/s eta 0:00:01\n",
      "   ---------------------------------------- 1.9/1.9 MB 5.3 MB/s eta 0:00:00\n",
      "Using cached annotated_types-0.7.0-py3-none-any.whl (13 kB)\n",
      "Using cached httpx-0.27.2-py3-none-any.whl (76 kB)\n",
      "Using cached httpcore-1.0.5-py3-none-any.whl (77 kB)\n",
      "Using cached jsonpatch-1.33-py2.py3-none-any.whl (12 kB)\n",
      "Downloading orjson-3.10.7-cp311-none-win_amd64.whl (137 kB)\n",
      "   ---------------------------------------- 0.0/137.3 kB ? eta -:--:--\n",
      "   ---------------------------------------- 137.3/137.3 kB 7.9 MB/s eta 0:00:00\n",
      "Using cached packaging-24.1-py3-none-any.whl (53 kB)\n",
      "Using cached h11-0.14.0-py3-none-any.whl (58 kB)\n",
      "Installing collected packages: pydantic-core, packaging, orjson, jsonpatch, h11, annotated-types, pydantic, httpcore, httpx, langsmith, langchain-core, langchain-text-splitters, langchain\n",
      "  Attempting uninstall: packaging\n",
      "    Found existing installation: packaging 23.1\n",
      "    Uninstalling packaging-23.1:\n",
      "      Successfully uninstalled packaging-23.1\n",
      "  Attempting uninstall: jsonpatch\n",
      "    Found existing installation: jsonpatch 1.32\n",
      "    Uninstalling jsonpatch-1.32:\n",
      "      Successfully uninstalled jsonpatch-1.32\n",
      "  Attempting uninstall: pydantic\n",
      "    Found existing installation: pydantic 1.10.12\n",
      "    Uninstalling pydantic-1.10.12:\n",
      "      Successfully uninstalled pydantic-1.10.12\n",
      "Successfully installed annotated-types-0.7.0 h11-0.14.0 httpcore-1.0.5 httpx-0.27.2 jsonpatch-1.33 langchain-0.3.0 langchain-core-0.3.2 langchain-text-splitters-0.3.0 langsmith-0.1.125 orjson-3.10.7 packaging-24.1 pydantic-2.9.2 pydantic-core-2.23.4\n"
     ]
    },
    {
     "name": "stderr",
     "output_type": "stream",
     "text": [
      "ERROR: pip's dependency resolver does not currently take into account all the packages that are installed. This behaviour is the source of the following dependency conflicts.\n",
      "anaconda-cloud-auth 0.1.4 requires pydantic<2.0, but you have pydantic 2.9.2 which is incompatible.\n",
      "streamlit 1.30.0 requires packaging<24,>=16.8, but you have packaging 24.1 which is incompatible.\n"
     ]
    }
   ],
   "source": [
    "!pip install langchain"
   ]
  },
  {
   "cell_type": "code",
   "execution_count": 29,
   "metadata": {},
   "outputs": [
    {
     "name": "stdout",
     "output_type": "stream",
     "text": [
      "['He added that the scheme aims to attract regional and Malaysian families to manage their family wealth from Malaysia. Supported by good infrastructure, a competitive talent pool, robust common law practices and effective governance, opportunities abound for family offices,” said Mr Amir Hamzah. This scheme is aimed at being operational by the first quarter of 2025, he added. During a press conference after his speech, Mr Amir Hamzah explained that these companies will be subject to zero per cent tax when they file revenue of their transactions for 10 years.He added that the incentives can then be extended if the family offices scale up investments and assets of their operations in Malaysia. Mr Amir Hamzah added that a key criteria is that these family offices must have minimum assets of RM70 million (US$16.73 million), and a portion of these must be invested in Malaysia’s economy.']\n"
     ]
    },
    {
     "data": {
      "text/plain": [
       "['He added that the scheme',\n",
       " 'aims to attract regional',\n",
       " 'and Malaysian families',\n",
       " 'to manage their family',\n",
       " 'wealth from Malaysia.',\n",
       " 'Supported by good',\n",
       " 'good infrastructure, a',\n",
       " 'a competitive talent',\n",
       " 'pool, robust common law',\n",
       " 'law practices and',\n",
       " 'and effective',\n",
       " 'governance,',\n",
       " 'opportunities abound for',\n",
       " 'for family offices,”',\n",
       " 'said Mr Amir Hamzah.',\n",
       " 'This scheme is aimed at',\n",
       " 'at being operational by',\n",
       " 'by the first quarter of',\n",
       " 'of 2025, he added.',\n",
       " 'During a press',\n",
       " 'conference after his',\n",
       " 'his speech, Mr Amir',\n",
       " 'Amir Hamzah explained',\n",
       " 'that these companies',\n",
       " 'will be subject to zero',\n",
       " 'zero per cent tax when',\n",
       " 'when they file revenue',\n",
       " 'of their transactions',\n",
       " 'for 10 years.He added',\n",
       " 'that the incentives can',\n",
       " 'can then be extended if',\n",
       " 'if the family offices',\n",
       " 'scale up investments and',\n",
       " 'and assets of their',\n",
       " 'operations in Malaysia.',\n",
       " 'Mr Amir Hamzah added',\n",
       " 'that a key criteria is',\n",
       " 'is that these family',\n",
       " 'offices must have',\n",
       " 'have minimum assets of',\n",
       " 'of RM70 million',\n",
       " '(US$16.73 million), and',\n",
       " 'and a portion of these',\n",
       " 'must be invested in',\n",
       " 'in Malaysia’s economy.']"
      ]
     },
     "execution_count": 29,
     "metadata": {},
     "output_type": "execute_result"
    }
   ],
   "source": [
    "from langchain.text_splitter import CharacterTextSplitter, RecursiveCharacterTextSplitter\n",
    "\n",
    "# Example for character-level splitting\n",
    "text_splitter = CharacterTextSplitter(chunk_size=25, chunk_overlap=5)\n",
    "chunks = text_splitter.split_text(text[0])\n",
    "print(chunks)\n",
    "\n",
    "# Example for word-based splitting (Recursive splitting)\n",
    "word_splitter = RecursiveCharacterTextSplitter(chunk_size=25, chunk_overlap=5)\n",
    "word_chunks = word_splitter.split_text(text[0])\n",
    "print(word_chunks\n"
   ]
  },
  {
   "cell_type": "code",
   "execution_count": 30,
   "metadata": {},
   "outputs": [
    {
     "data": {
      "text/plain": [
       "['He added that the scheme aims to attract regional and Malaysian families to manage their family wealth from Malaysia. Supported by good infrastructure, a competitive talent pool, robust common law practices and effective governance, opportunities abound for family offices,” said Mr Amir Hamzah. This scheme is aimed at being operational by the first quarter of 2025, he added. During a press conference after his speech, Mr Amir Hamzah explained that these companies will be subject to zero per cent tax when they file revenue of their transactions for 10 years.He added that the incentives can then be extended if the family offices scale up investments and assets of their operations in Malaysia. Mr Amir Hamzah added that a key criteria is that these family offices must have minimum assets of RM70 million (US$16.73 million), and a portion of these must be invested in Malaysia’s economy.']"
      ]
     },
     "execution_count": 30,
     "metadata": {},
     "output_type": "execute_result"
    }
   ],
   "source": [
    "chunks"
   ]
  },
  {
   "cell_type": "code",
   "execution_count": null,
   "metadata": {},
   "outputs": [],
   "source": []
  }
 ],
 "metadata": {
  "kernelspec": {
   "display_name": "rag_env",
   "language": "python",
   "name": "rag_env"
  },
  "language_info": {
   "codemirror_mode": {
    "name": "ipython",
    "version": 3
   },
   "file_extension": ".py",
   "mimetype": "text/x-python",
   "name": "python",
   "nbconvert_exporter": "python",
   "pygments_lexer": "ipython3",
   "version": "3.11.7"
  }
 },
 "nbformat": 4,
 "nbformat_minor": 2
}
